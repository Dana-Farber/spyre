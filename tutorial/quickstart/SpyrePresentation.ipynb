{
 "metadata": {
  "name": "",
  "signature": "sha256:583bc8b8582025c7ba6d5de686063095e77bb352c4ce8add261efd746fd03810"
 },
 "nbformat": 3,
 "nbformat_minor": 0,
 "worksheets": [
  {
   "cells": [
    {
     "cell_type": "heading",
     "level": 1,
     "metadata": {
      "slideshow": {
       "slide_type": "slide"
      }
     },
     "source": [
      "Simple Interactive Web Applications with Spyre"
     ]
    },
    {
     "cell_type": "markdown",
     "metadata": {},
     "source": [
      "Spyre is a web application framework for turning static data tables and plots into interactive web apps.  Spyre was motivated by <a href=\"http://shiny.rstudio.com/\">Shiny</a>, a similar framework for R created by the developers of Rstudio."
     ]
    },
    {
     "cell_type": "heading",
     "level": 2,
     "metadata": {},
     "source": [
      "Where does Spyre Live?"
     ]
    },
    {
     "cell_type": "markdown",
     "metadata": {},
     "source": [
      "GitHub: <a href='https://github.com/adamhajari/spyre'>github.com/adamhajari/spyre</a>\n",
      "\n",
      "Live example of a spyre app: <a href='http://adamhajari.com'>adamhajari.com</a>"
     ]
    },
    {
     "cell_type": "heading",
     "level": 2,
     "metadata": {},
     "source": [
      "Installing Spyre"
     ]
    },
    {
     "cell_type": "markdown",
     "metadata": {},
     "source": [
      "Spyre depends on:\n",
      " - cherrypy (server and backend)\n",
      " - jinja2 (html and javascript templating)\n",
      " - matplotlib (displaying plots and images)\n",
      " - pandas (for working within tabular data)\n",
      " \n",
      "Assuming you don't have any issues with the above dependencies, you can install spyre via pip:\n",
      "```bash\n",
      "$ pip install dataspyre\n",
      "```"
     ]
    },
    {
     "cell_type": "heading",
     "level": 2,
     "metadata": {},
     "source": [
      "Launching a Spyre App"
     ]
    },
    {
     "cell_type": "markdown",
     "metadata": {},
     "source": [
      "Spyre's server module has a App class that every Spyre app will needs to inherit. Use the app's launch() method to deploy your app."
     ]
    },
    {
     "cell_type": "code",
     "collapsed": false,
     "input": [
      "from spyre import server\n",
      "\n",
      "class SimpleApp(server.App):\n",
      "    pass\n",
      "\n",
      "app = SimpleApp()\n",
      "# app.launch()  # this won't launch from ipython notebook, uncomment to actually launch"
     ],
     "language": "python",
     "metadata": {},
     "outputs": [],
     "prompt_number": 25
    },
    {
     "cell_type": "markdown",
     "metadata": {},
     "source": [
      "If you put the above code in a file called simple_app.py you can launch the app from the command line with\n",
      "```\n",
      "$ python simple_app.py\n",
      "```\n",
      "Make sure you uncomment the last line and don't try to run this within ipython notebook. Things will break."
     ]
    },
    {
     "cell_type": "heading",
     "level": 2,
     "metadata": {},
     "source": [
      "A Very Simple Example"
     ]
    },
    {
     "cell_type": "markdown",
     "metadata": {},
     "source": [
      "There are two variables of the App class that need to be overridden to create the UI for a Spyre app: inputs and outputs (a third type, controls, is also often useful, but not absolutely neccessary). All three variables are lists of dictionaries which specify each component's properties. For instance, to create a text box input, overide the App's inputs variable:"
     ]
    },
    {
     "cell_type": "code",
     "collapsed": false,
     "input": [
      "inputs = [{ \"input_type\":\"text\",\n",
      "            \"variable_name\":\"freq\",\n",
      "            \"label\": \"frequency\",\n",
      "            \"value\":5,\n",
      "            \"action_id\":\"plot_sine_wave\"}]"
     ],
     "language": "python",
     "metadata": {},
     "outputs": [],
     "prompt_number": 3
    },
    {
     "cell_type": "markdown",
     "metadata": {},
     "source": [
      "An input variable's value can be used by any of the app's outputs by referencing the variable_name can. The action_id is a reference to either an output_id of an output element or a control_id of a control element. The output referenced by the above input can be defined by overriding the App's outputs variable:"
     ]
    },
    {
     "cell_type": "code",
     "collapsed": false,
     "input": [
      "outputs = [{\"output_type\":\"plot\",\n",
      "            \"output_id\":\"plot_sine_wave\",\n",
      "            \"on_page_load\":True }]"
     ],
     "language": "python",
     "metadata": {},
     "outputs": [],
     "prompt_number": 4
    },
    {
     "cell_type": "markdown",
     "metadata": {},
     "source": [
      "Notice that the action_id from the text input matches the output_id above. As a result, an update to the text field will trigger an update to the output. Finally, we must override the method that generates the plot. Let's make a sine wave:"
     ]
    },
    {
     "cell_type": "code",
     "collapsed": false,
     "input": [
      "import numpy as np\n",
      "from matplotlib import pyplot as plt\n",
      "\n",
      "def getPlot(self,params):\n",
      "    f = int(params['freq'])\n",
      "    x = np.arange(1,6,0.01)\n",
      "    y = np.sin(f*x)\n",
      "    plt.plot(x,y)\n",
      "    return plt.gcf()"
     ],
     "language": "python",
     "metadata": {},
     "outputs": [],
     "prompt_number": 5
    },
    {
     "cell_type": "markdown",
     "metadata": {},
     "source": [
      "The getPlot method should return a pyplot figure.  \n",
      "\n",
      "If we put it all together and add a title we get"
     ]
    },
    {
     "cell_type": "code",
     "collapsed": false,
     "input": [
      "from spyre import server\n",
      "\n",
      "import numpy as np\n",
      "from matplotlib import pyplot as plt\n",
      "\n",
      "class SimpleSineApp(server.App):\n",
      "    title = \"Simple App\"\n",
      "    inputs = [{ \"input_type\":\"text\",\n",
      "                \"variable_name\":\"freq\",\n",
      "                \"label\": \"frequency\",\n",
      "                \"value\":5,\n",
      "                \"action_id\":\"plot_sine_wave\"}]\n",
      "\n",
      "    outputs = [{\"output_type\":\"plot\",\n",
      "                \"output_id\":\"plot_sine_wave\",\n",
      "                \"on_page_load\":True }]\n",
      "\n",
      "    def getPlot(self,params):\n",
      "        f = float(params['freq'])\n",
      "        x = np.arange(1,6,0.01)\n",
      "        y = np.sin(f*x)\n",
      "        plt.plot(x,y)\n",
      "        return plt.gcf()\n",
      "\n",
      "app = SimpleSineApp()\n",
      "# app.launch()"
     ],
     "language": "python",
     "metadata": {},
     "outputs": [],
     "prompt_number": 32
    },
    {
     "cell_type": "markdown",
     "metadata": {},
     "source": [
      "Notice that the inputs and outputs variables not only specify what type of elements to include in an app's interface, but also how they're connected to eachother. The connection in this example is simple: a change in the input state updates the output. \n",
      "\n",
      "<img src=\"simple_input-output.png\">"
     ]
    },
    {
     "cell_type": "heading",
     "level": 2,
     "metadata": {},
     "source": [
      "Under the Hood: Auto-Generating the Front-End with Jinja"
     ]
    },
    {
     "cell_type": "markdown",
     "metadata": {},
     "source": [
      "Spyre uses the jinja2 templating library to turn the dictionary inputs and outputs into HTML and javascript. Here's a snippet from Spyre's HTML template that generates the text inputs:"
     ]
    },
    {
     "cell_type": "markdown",
     "metadata": {},
     "source": [
      "<img src=\"jinja_snapshot.png\">\n",
      "\n",
      "This (and the rest of the templated page) gets rendered using the app's inputs and outputs attributes\n",
      "\n",
      "<img src=\"jinja_rendered.png\">\n",
      "\n",
      "If the above code looks foreign to you or HTML/javascript just isn't your thing, that's fine. No knowledge of anything other than python is required to create and launch a Spyre app."
     ]
    },
    {
     "cell_type": "heading",
     "level": 2,
     "metadata": {},
     "source": [
      "Another Example"
     ]
    },
    {
     "cell_type": "markdown",
     "metadata": {},
     "source": [
      "Let's suppose you've written a function to grab historical stock price data from the web. Your function returns a pandas dataframe from which you can easily generate graphs of stock prices over time."
     ]
    },
    {
     "cell_type": "code",
     "collapsed": false,
     "input": [
      "import pandas as pd\n",
      "import urllib2\n",
      "import json\n",
      "\n",
      "def getData(params):\n",
      "    ticker = params['ticker']\n",
      "    # make call to yahoo finance api to get historical stock data\n",
      "    api_url = 'https://chartapi.finance.yahoo.com/instrument/1.0/{}/chartdata;type=quote;range=3m/json'.format(ticker)\n",
      "    result = urllib2.urlopen(api_url).read()\n",
      "    data = json.loads(result.replace('finance_charts_json_callback( ','')[:-1])  # strip away the javascript and load json\n",
      "    company_name = data['meta']['Company-Name']\n",
      "    df = pd.DataFrame.from_records(data['series'])\n",
      "    df['Date'] = pd.to_datetime(df['Date'],format='%Y%m%d')\n",
      "    return df\n",
      "\n",
      "params = {'ticker':'AAPL'}\n",
      "df = getData(params)  # get data\n",
      "plt_obj = df.set_index('Date').drop(['volume'],axis=1).plot()\n",
      "plt_obj.set_ylabel(\"Price\")\n",
      "\n",
      "print df.set_index('Date').head()"
     ],
     "language": "python",
     "metadata": {},
     "outputs": [
      {
       "output_type": "stream",
       "stream": "stdout",
       "text": [
        "             close    high     low    open    volume\n",
        "Date                                                \n",
        "2014-08-22  101.32  101.47  100.19  100.29  44184000\n",
        "2014-08-25  101.54  102.17  101.28  101.79  40270000\n",
        "2014-08-26  100.89  101.50  100.86  101.42  33152000\n",
        "2014-08-27  102.13  102.57  100.70  101.02  52369000\n",
        "2014-08-28  102.25  102.78  101.56  101.59  68460000\n"
       ]
      },
      {
       "metadata": {},
       "output_type": "display_data",
       "png": "[encoded data removed]",
       "text": [
        "<matplotlib.figure.Figure at 0x10c3b3c50>"
       ]
      }
     ],
     "prompt_number": 24
    },
    {
     "cell_type": "markdown",
     "metadata": {},
     "source": [
      "To turn this into a Spyre app we just need to put the code that creates the plot into a getPlot() method and define the inputs and outputs. Let's use a dropdown menu input this time."
     ]
    },
    {
     "cell_type": "code",
     "collapsed": false,
     "input": [
      "from spyre import server\n",
      "\n",
      "import pandas as pd\n",
      "import urllib2\n",
      "import json\n",
      "\n",
      "class StockExample(server.App):\n",
      "    title = \"Historical Stock Prices\"\n",
      "\n",
      "    inputs = [{     \"input_type\":'dropdown',\n",
      "                    \"label\": 'Company', \n",
      "                    \"options\" : [ {\"label\": \"Google\", \"value\":\"GOOG\"},\n",
      "                                  {\"label\": \"Yahoo\", \"value\":\"YHOO\"},\n",
      "                                  {\"label\": \"Apple\", \"value\":\"AAPL\"}],\n",
      "                    \"variable_name\": 'ticker', \n",
      "                    \"action_id\": \"plot\" }]\n",
      "\n",
      "    outputs = [{    \"output_type\" : \"plot\",\n",
      "                    \"output_id\" : \"plot\",\n",
      "                    \"on_page_load\" : True }]\n",
      "\n",
      "    def getData(self, params):\n",
      "        ticker = params['ticker']\n",
      "        # make call to yahoo finance api to get historical stock data\n",
      "        api_url = 'https://chartapi.finance.yahoo.com/instrument/1.0/{}/chartdata;type=quote;range=3m/json'.format(ticker)\n",
      "        result = urllib2.urlopen(api_url).read()\n",
      "        data = json.loads(result.replace('finance_charts_json_callback( ','')[:-1])  # strip away the javascript and load json\n",
      "        self.company_name = data['meta']['Company-Name']\n",
      "        df = pd.DataFrame.from_records(data['series'])\n",
      "        df['Date'] = pd.to_datetime(df['Date'],format='%Y%m%d')\n",
      "        return df\n",
      "\n",
      "    def getPlot(self, params):\n",
      "        df = self.getData(params)\n",
      "        plt_obj = df.set_index('Date').drop(['volume'],axis=1).plot()\n",
      "        plt_obj.set_ylabel(\"Price\")\n",
      "        plt_obj.set_title(self.company_name)\n",
      "        fig = plt_obj.get_figure()\n",
      "        return fig\n",
      "\n",
      "app = StockExample()\n",
      "# app.launch(port=9093)"
     ],
     "language": "python",
     "metadata": {},
     "outputs": []
    },
    {
     "cell_type": "markdown",
     "metadata": {},
     "source": [
      "Let's also add a second output: a data table.  To generate this table we just need to override the getData method (which we've conveniently already done). This method should return a pandas DataFrame.  \n",
      "\n",
      "Since our inputs can only have one action_id and there are two outputs that need to be updated, we'll also add an update button to our app.  The button is a type of control. All controls have a control_id which can be referenced by our outputs, such that a control action (clicking the button in this case) results in an update to those outputs."
     ]
    },
    {
     "cell_type": "code",
     "collapsed": false,
     "input": [
      "from spyre import server\n",
      "\n",
      "import pandas as pd\n",
      "import urllib2\n",
      "import json\n",
      "\n",
      "class StockExample(server.App):\n",
      "    title = \"Historical Stock Prices\"\n",
      "\n",
      "    inputs = [{     \"input_type\":'dropdown',\n",
      "                    \"label\": 'Company', \n",
      "                    \"options\" : [ {\"label\": \"Google\", \"value\":\"GOOG\"},\n",
      "                                  {\"label\": \"Yahoo\", \"value\":\"YHOO\"},\n",
      "                                  {\"label\": \"Apple\", \"value\":\"AAPL\"}],\n",
      "                    \"variable_name\": 'ticker' }]  # the input no longer has an action_id\n",
      "    \n",
      "    # outputs will be updated by clicking the button control\n",
      "    controls = [{   \"control_type\" : \"button\",\n",
      "                    \"label\" : \"get historical stock prices\",\n",
      "                    \"control_id\" : \"update_data\"}]\n",
      "\n",
      "    outputs = [{    \"output_type\" : \"plot\",\n",
      "                    \"output_id\" : \"plot\",\n",
      "                    \"control_id\" : \"update_data\",  # this is a reference to the button control\n",
      "                    \"on_page_load\" : True },\n",
      "                # table outputs display the results returned from the getData() \n",
      "                # method (which should be a DataFrame)\n",
      "                {   \"output_type\" : \"table\",  \n",
      "                    \"output_id\" : \"table_id\",\n",
      "                    \"control_id\" : \"update_data\",  # multiple outputs can share the same control\n",
      "                    \"on_page_load\" : True }]\n",
      "\n",
      "    def getData(self, params):\n",
      "        ticker = params['ticker']\n",
      "        api_url = 'https://chartapi.finance.yahoo.com/instrument/1.0/{}/chartdata;type=quote;range=3m/json'.format(ticker)\n",
      "        result = urllib2.urlopen(api_url).read()\n",
      "        data = json.loads(result.replace('finance_charts_json_callback( ','')[:-1])\n",
      "        self.company_name = data['meta']['Company-Name']\n",
      "        df = pd.DataFrame.from_records(data['series'])\n",
      "        df['Date'] = pd.to_datetime(df['Date'],format='%Y%m%d')\n",
      "        return df\n",
      "\n",
      "    def getPlot(self, params):\n",
      "        df = self.getData(params)\n",
      "        plt_obj = df.set_index('Date').drop(['volume'],axis=1).plot()\n",
      "        plt_obj.set_ylabel(\"Price\")\n",
      "        plt_obj.set_title(self.company_name)\n",
      "        fig = plt_obj.get_figure()\n",
      "        return fig\n",
      "\n",
      "app = StockExample()\n",
      "# app.launch(port=9093)"
     ],
     "language": "python",
     "metadata": {},
     "outputs": []
    },
    {
     "cell_type": "markdown",
     "metadata": {},
     "source": [
      "Finally we'll put each of the outputs in separate tabs and add an action_id to the dropdown input that references the \"update_data\" control. Now, a change to the input state triggers the button to be \"clicked\". This makes the existence of a \"button\" supurfluous, so we'll change the control_type to \"hidden\""
     ]
    },
    {
     "cell_type": "code",
     "collapsed": false,
     "input": [
      "from spyre import server\n",
      "\n",
      "import pandas as pd\n",
      "import urllib2\n",
      "import json\n",
      "\n",
      "class StockExample(server.App):\n",
      "    title = \"Historical Stock Prices\"\n",
      "\n",
      "    inputs = [{     \"input_type\":'dropdown',\n",
      "                    \"label\": 'Company', \n",
      "                    \"options\" : [ {\"label\": \"Google\", \"value\":\"GOOG\"},\n",
      "                                  {\"label\": \"Yahoo\", \"value\":\"YHOO\"},\n",
      "                                  {\"label\": \"Apple\", \"value\":\"AAPL\"}],\n",
      "                    \"variable_name\": 'ticker', \n",
      "                    \"action_id\": \"update_data\" }]  # action_ids can point to controls\n",
      "    \n",
      "    # changing the input state now activates this control so we no longer need a button\n",
      "    controls = [{   \"control_type\" : \"hidden\",  \n",
      "                    \"label\" : \"get historical stock prices\",\n",
      "                    \"control_id\" : \"update_data\"}]\n",
      "\n",
      "    tabs = [\"Plot\", \"Table\"]  # add tabs\n",
      "\n",
      "    outputs = [{    \"output_type\" : \"plot\",\n",
      "                    \"output_id\" : \"plot\",\n",
      "                    \"control_id\" : \"update_data\",\n",
      "                    \"tab\" : \"Plot\",  # must specify which tab each output should live in\n",
      "                    \"on_page_load\" : True },\n",
      "                {   \"output_type\" : \"table\",\n",
      "                    \"output_id\" : \"table_id\",\n",
      "                    \"control_id\" : \"update_data\",\n",
      "                    \"tab\" : \"Table\",\n",
      "                    \"on_page_load\" : True }]\n",
      "\n",
      "    def getData(self, params):\n",
      "        ticker = params['ticker']\n",
      "        # make call to yahoo finance api to get historical stock data\n",
      "        api_url = 'https://chartapi.finance.yahoo.com/instrument/1.0/{}/chartdata;type=quote;range=3m/json'.format(ticker)\n",
      "        result = urllib2.urlopen(api_url).read()\n",
      "        data = json.loads(result.replace('finance_charts_json_callback( ','')[:-1])  # strip away the javascript and load json\n",
      "        self.company_name = data['meta']['Company-Name']\n",
      "        df = pd.DataFrame.from_records(data['series'])\n",
      "        df['Date'] = pd.to_datetime(df['Date'],format='%Y%m%d')\n",
      "        return df\n",
      "\n",
      "    def getPlot(self, params):\n",
      "        df = self.getData(params)\n",
      "        plt_obj = df.set_index('Date').drop(['volume'],axis=1).plot()\n",
      "        plt_obj.set_ylabel(\"Price\")\n",
      "        plt_obj.set_title(self.company_name)\n",
      "        fig = plt_obj.get_figure()\n",
      "        return fig\n",
      "\n",
      "app = StockExample()\n",
      "# app.launch(port=9093)"
     ],
     "language": "python",
     "metadata": {},
     "outputs": [],
     "prompt_number": 27
    },
    {
     "cell_type": "markdown",
     "metadata": {},
     "source": [
      "<img src='two__outputs.png'>"
     ]
    },
    {
     "cell_type": "heading",
     "level": 2,
     "metadata": {},
     "source": [
      "More Examples On GitHub"
     ]
    },
    {
     "cell_type": "markdown",
     "metadata": {},
     "source": [
      "There are five input types\n",
      " - text\n",
      " - slider\n",
      " - dropdown\n",
      " - radiobutton\n",
      " - checkbox group\n",
      " \n",
      "and 4 output types:\n",
      " - plots\n",
      " - images\n",
      " - tables\n",
      " - html\n",
      "\n",
      "Examples of all are available on github in the examples directory."
     ]
    },
    {
     "cell_type": "heading",
     "level": 2,
     "metadata": {},
     "source": [
      "Who Am I?"
     ]
    },
    {
     "cell_type": "markdown",
     "metadata": {},
     "source": [
      "```\n",
      "Adam Hajari\n",
      "Data Scientist at Next Big Sound\n",
      "adam@nextbigsound.com\n",
      "@adamhajari\n",
      "```"
     ]
    },
    {
     "cell_type": "code",
     "collapsed": false,
     "input": [],
     "language": "python",
     "metadata": {},
     "outputs": []
    }
   ],
   "metadata": {}
  }
 ]
}